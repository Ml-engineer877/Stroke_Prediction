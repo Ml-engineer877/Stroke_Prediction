{
 "cells": [
  {
   "cell_type": "markdown",
   "id": "dcb59b7a",
   "metadata": {},
   "source": [
    "CELL-1:IMPORTING THE REQUIRED LIBRARIES"
   ]
  },
  {
   "cell_type": "code",
   "execution_count": 11,
   "id": "7a0653f6",
   "metadata": {},
   "outputs": [],
   "source": [
    "import pandas as pd\n",
    "import numpy as np\n",
    "import matplotlib.pyplot as plt\n",
    "import seaborn as sns\n",
    "import os\n",
    "\n",
    "raw_data=\"../Data/Raw/raw stroke data.csv\"\n",
    "images_dir=\"../images\"\n",
    "os.makedirs(images_dir,exist_ok=True)"
   ]
  },
  {
   "cell_type": "markdown",
   "id": "fcf85f19",
   "metadata": {},
   "source": [
    "CELL-2:DESCRIBING THE DATA"
   ]
  },
  {
   "cell_type": "code",
   "execution_count": null,
   "id": "33034455",
   "metadata": {},
   "outputs": [],
   "source": [
    "df=pd.read_csv(raw_data)\n",
    "print(df.head(5))\n",
    "display(df.info())\n",
    "display(df.describe())"
   ]
  },
  {
   "cell_type": "markdown",
   "id": "96b906f6",
   "metadata": {},
   "source": [
    "CELL-3:FINDING MISSING VALUES"
   ]
  },
  {
   "cell_type": "code",
   "execution_count": null,
   "id": "2aa89806",
   "metadata": {},
   "outputs": [],
   "source": [
    "print(\"Missing Values Per Column:\",df.isnull().sum())\n",
    "print(\"Stroke Count\")\n",
    "display(df[\"stroke\"].value_counts(dropna=False))"
   ]
  },
  {
   "cell_type": "markdown",
   "id": "bcf719a2",
   "metadata": {},
   "source": [
    "CELL-4:VISUALIZING THE DATA"
   ]
  },
  {
   "cell_type": "code",
   "execution_count": null,
   "id": "1ef9fb05",
   "metadata": {},
   "outputs": [],
   "source": [
    "plt.figure(figsize=(6,4))\n",
    "sns.countplot(data=df,x=\"stroke\")\n",
    "plt.title(\"Distribution Of Strokes\")\n",
    "plt.savefig(os.path.join(images_dir,\"Dis Of Strokes.jpg\"))\n",
    "plt.show()\n",
    "\n",
    "plt.figure(figsize=(6,4))\n",
    "sns.boxplot(df[[\"age\",\"avg_glucose_level\"]])\n",
    "plt.title(\"Box Plot Of Numeric Columns\")\n",
    "plt.savefig(os.path.join(images_dir,\"Box Plot Of Num Col.jpg\"))\n",
    "plt.show()"
   ]
  }
 ],
 "metadata": {
  "kernelspec": {
   "display_name": "Python 3",
   "language": "python",
   "name": "python3"
  },
  "language_info": {
   "codemirror_mode": {
    "name": "ipython",
    "version": 3
   },
   "file_extension": ".py",
   "mimetype": "text/x-python",
   "name": "python",
   "nbconvert_exporter": "python",
   "pygments_lexer": "ipython3",
   "version": "3.9.6"
  }
 },
 "nbformat": 4,
 "nbformat_minor": 5
}
