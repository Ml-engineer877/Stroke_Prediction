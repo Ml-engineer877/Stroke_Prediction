{
 "cells": [
  {
   "cell_type": "markdown",
   "id": "81d1cd5d",
   "metadata": {},
   "source": [
    "CELL-1 : IMPORTING THE REQUIRED LIBRARIES AND LOAD TEST DATA"
   ]
  },
  {
   "cell_type": "code",
   "execution_count": null,
   "id": "3d733f66",
   "metadata": {},
   "outputs": [],
   "source": [
    "import os\n",
    "import pandas as pd\n",
    "import numpy as np\n",
    "import sys\n",
    "\n",
    "project_path=os.path.abspath(os.path.join(os.getcwd(),\"..\"))\n",
    "sys.path.append(project_path)\n",
    "test_path=os.path.join(project_path,\"Data\",\"Test\",\"Test_Data.csv\")\n",
    "img_path=os.path.join(project_path,\"images\")\n",
    "df=pd.read_csv(test_path)\n",
    "print(df.head())\n"
   ]
  },
  {
   "cell_type": "code",
   "execution_count": null,
   "id": "d0c2fe23",
   "metadata": {},
   "outputs": [],
   "source": [
    "from src.model_evaluation import load_model,encode,seggregate,split,model_evaluate\n",
    "model1,model2=load_model()\n",
    "df=encode(model2,df)\n",
    "x,y=seggregate(df)\n",
    "x_train,x_test,y_train,y_test=split(x,y)\n",
    "model_evaluate(model1,x_test,y_test)"
   ]
  }
 ],
 "metadata": {
  "kernelspec": {
   "display_name": "Python 3",
   "language": "python",
   "name": "python3"
  },
  "language_info": {
   "codemirror_mode": {
    "name": "ipython",
    "version": 3
   },
   "file_extension": ".py",
   "mimetype": "text/x-python",
   "name": "python",
   "nbconvert_exporter": "python",
   "pygments_lexer": "ipython3",
   "version": "3.9.6"
  }
 },
 "nbformat": 4,
 "nbformat_minor": 5
}
