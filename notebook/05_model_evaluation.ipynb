{
 "cells": [
  {
   "cell_type": "markdown",
   "id": "81d1cd5d",
   "metadata": {},
   "source": [
    "CELL-1 : IMPORTING THE REQUIRED LIBRARIES AND LOAD TEST DATA"
   ]
  },
  {
   "cell_type": "code",
   "execution_count": null,
   "id": "3d733f66",
   "metadata": {},
   "outputs": [],
   "source": [
    "import os\n",
    "import pandas as pd\n",
    "import numpy as np\n",
    "import joblib\n",
    "\n",
    "project_dir=os.path.abspath(os.path.join(os.getcwd(),\"..\"))\n",
    "test_path=os.path.join(project_dir,\"Data\",\"Test\",\"Test_Data.csv\")\n",
    "model1_path=os.path.join(project_dir,\"Models\",\"Gaussian_model.pkl\")\n",
    "model2_path=os.path.join(project_dir,\"Models\",\"Label_Encoder.pkl\")\n",
    "img_path=os.path.join(project_dir,\"images\")\n",
    "model1=joblib.load(model1_path)\n",
    "print(\"Model1 Loaded Sucessfully\")\n",
    "model2=joblib.load(model2_path)\n",
    "print(\"Model2 Loaded Sucessfully\")\n",
    "df=pd.read_csv(test_path)\n",
    "print(df.head())\n"
   ]
  },
  {
   "cell_type": "markdown",
   "id": "383e932c",
   "metadata": {},
   "source": [
    "CELL-2 : CHECKING MISSING VALUES AND ENCODE THE VALUES"
   ]
  },
  {
   "cell_type": "code",
   "execution_count": null,
   "id": "d12d40e6",
   "metadata": {},
   "outputs": [],
   "source": [
    "display(df.isnull().sum())\n",
    "df=df.dropna()\n",
    "display(df.isnull().sum())\n",
    "\n",
    "var_col=df[[\"gender\",\"ever_married\",\"work_type\",\"Residence_type\",\"smoking_status\"]]\n",
    "for col in var_col:\n",
    "    df[col]=model2.fit_transform(df[col])\n",
    "print(df.head())"
   ]
  },
  {
   "cell_type": "markdown",
   "id": "942f27b2",
   "metadata": {},
   "source": [
    "CELL-3 : SPLITTING THE DATA FOR INPUT(X) AND OUTPUT(Y)"
   ]
  },
  {
   "cell_type": "code",
   "execution_count": null,
   "id": "1b5a31a7",
   "metadata": {},
   "outputs": [],
   "source": [
    "x=df.iloc[:,0:11]\n",
    "y=df[\"stroke\"]\n",
    "print(x.shape)\n",
    "print(y.shape)"
   ]
  },
  {
   "cell_type": "markdown",
   "id": "b8501bdb",
   "metadata": {},
   "source": [
    "CELL-4 : SEGREGATTING THE DATA FOR TRAINING AND TESTING"
   ]
  },
  {
   "cell_type": "code",
   "execution_count": null,
   "id": "a24c2295",
   "metadata": {},
   "outputs": [],
   "source": [
    "from sklearn.model_selection import train_test_split\n",
    "x_train,x_test,y_train,y_test=train_test_split(x,y,test_size=0.25)\n",
    "print(x_train.shape)\n",
    "print(x_test.shape)\n",
    "print(y_train.shape)\n",
    "print(y_test.shape)"
   ]
  },
  {
   "cell_type": "markdown",
   "id": "27b4f1a9",
   "metadata": {},
   "source": [
    "CELL-5 : MODEL EVALUATION"
   ]
  },
  {
   "cell_type": "code",
   "execution_count": null,
   "id": "4b86e9eb",
   "metadata": {},
   "outputs": [],
   "source": [
    "model1.fit(x_train,y_train)\n",
    "pred=model1.predict(x_test)\n",
    "from sklearn.metrics import accuracy_score,classification_report,confusion_matrix\n",
    "import seaborn as sns\n",
    "import matplotlib.pyplot as plt\n",
    "print(\"Accuracy Is:\",accuracy_score(pred,y_test)*100)\n",
    "print(\"Classification Report:\",classification_report(pred,y_test))\n",
    "cm=confusion_matrix(pred,y_test)\n",
    "sns.heatmap(cm,annot=True,cmap=\"coolwarm\")\n",
    "plt.savefig(os.path.join(img_path,\"Confusion Matrix.png\"))\n",
    "plt.show()"
   ]
  }
 ],
 "metadata": {
  "kernelspec": {
   "display_name": "Python 3",
   "language": "python",
   "name": "python3"
  },
  "language_info": {
   "codemirror_mode": {
    "name": "ipython",
    "version": 3
   },
   "file_extension": ".py",
   "mimetype": "text/x-python",
   "name": "python",
   "nbconvert_exporter": "python",
   "pygments_lexer": "ipython3",
   "version": "3.9.6"
  }
 },
 "nbformat": 4,
 "nbformat_minor": 5
}
