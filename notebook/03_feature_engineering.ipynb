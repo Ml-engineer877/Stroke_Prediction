{
 "cells": [
  {
   "cell_type": "markdown",
   "id": "27506e75",
   "metadata": {},
   "source": [
    "CELL-1:IMPORTING THE REQUIRED LIBRARIES AND PATHS"
   ]
  },
  {
   "cell_type": "code",
   "execution_count": null,
   "id": "0c8c7add",
   "metadata": {},
   "outputs": [],
   "source": [
    "import os\n",
    "import pandas as pd\n",
    "import numpy as np\n",
    "import sys\n",
    "\n",
    "project_path=os.path.abspath(os.path.join(os.getcwd(),\"..\"))\n",
    "sys.path.append(os.path.join(project_path))\n",
    "process_path=os.path.join(project_path,\"Data\",\"Processed\",\"Stroke Processed Data.csv\")\n",
    "\n",
    "df=pd.read_csv(os.path.join(project_path,process_path))\n",
    "print(df.head())"
   ]
  },
  {
   "cell_type": "code",
   "execution_count": null,
   "id": "ec62a25e",
   "metadata": {},
   "outputs": [],
   "source": [
    "from src.feature_engineering import label,save\n",
    "label(df)\n",
    "save(df)"
   ]
  }
 ],
 "metadata": {
  "kernelspec": {
   "display_name": "Python 3",
   "language": "python",
   "name": "python3"
  },
  "language_info": {
   "codemirror_mode": {
    "name": "ipython",
    "version": 3
   },
   "file_extension": ".py",
   "mimetype": "text/x-python",
   "name": "python",
   "nbconvert_exporter": "python",
   "pygments_lexer": "ipython3",
   "version": "3.9.6"
  }
 },
 "nbformat": 4,
 "nbformat_minor": 5
}
