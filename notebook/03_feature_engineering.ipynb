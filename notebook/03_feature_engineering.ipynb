{
 "cells": [
  {
   "cell_type": "markdown",
   "id": "27506e75",
   "metadata": {},
   "source": [
    "CELL-1:IMPORTING THE REQUIRED LIBRARIES AND PATHS"
   ]
  },
  {
   "cell_type": "code",
   "execution_count": null,
   "id": "0c8c7add",
   "metadata": {},
   "outputs": [],
   "source": [
    "import os\n",
    "import pandas as pd\n",
    "import numpy as np\n",
    "\n",
    "project_path=os.path.abspath(os.path.join(os.getcwd(),\"..\"))\n",
    "process_path=os.path.join(project_path,\"Data\",\"Processed\",\"Stroke Processed Data.csv\")\n",
    "\n",
    "df=pd.read_csv(os.path.join(project_path,process_path))\n",
    "print(df.head())"
   ]
  },
  {
   "cell_type": "markdown",
   "id": "9acb8166",
   "metadata": {},
   "source": [
    "CELL-2:ENCODING THE VARIABLES INTO THE NUMERIC VALUES"
   ]
  },
  {
   "cell_type": "code",
   "execution_count": null,
   "id": "10b87366",
   "metadata": {},
   "outputs": [],
   "source": [
    "from sklearn.preprocessing import LabelEncoder\n",
    "le=LabelEncoder()\n",
    "var_col=df[[\"gender\",\"ever_married\",\"work_type\",\"Residence_type\",\"smoking_status\"]]\n",
    "for col in var_col:\n",
    "    df[col]=le.fit_transform(df[col])\n",
    "print(df[[\"gender\",\"ever_married\",\"work_type\",\"Residence_type\",\"smoking_status\"]].head())"
   ]
  },
  {
   "cell_type": "markdown",
   "id": "78502396",
   "metadata": {},
   "source": [
    "CELL-3:SAVE THE PROCESSED FILE "
   ]
  },
  {
   "cell_type": "code",
   "execution_count": 13,
   "id": "6a5644e1",
   "metadata": {},
   "outputs": [
    {
     "name": "stdout",
     "output_type": "stream",
     "text": [
      "The Cleaned File Is Saved To The Path: ../Data/Processed/Stroke processed Data.csv\n"
     ]
    }
   ],
   "source": [
    "file_path=\"../Data/Processed/Stroke processed Data.csv\"\n",
    "model_dir=os.path.join(project_path,\"Models\")\n",
    "os.makedirs(model_dir,exist_ok=True)\n",
    "model_path=os.path.join(model_dir,\"Label_Encoder.pkl\")\n",
    "df.to_csv(file_path,index=False)\n",
    "print(\"The Cleaned File Is Saved To The Path:\",file_path)\n",
    "\n",
    "import pickle\n",
    "with open(model_path,\"wb\") as f:\n",
    "    pickle.dump(le,f)"
   ]
  }
 ],
 "metadata": {
  "kernelspec": {
   "display_name": "Python 3",
   "language": "python",
   "name": "python3"
  },
  "language_info": {
   "codemirror_mode": {
    "name": "ipython",
    "version": 3
   },
   "file_extension": ".py",
   "mimetype": "text/x-python",
   "name": "python",
   "nbconvert_exporter": "python",
   "pygments_lexer": "ipython3",
   "version": "3.9.6"
  }
 },
 "nbformat": 4,
 "nbformat_minor": 5
}
