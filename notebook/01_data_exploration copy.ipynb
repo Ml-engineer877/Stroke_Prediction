{
 "cells": [
  {
   "cell_type": "code",
   "execution_count": null,
   "id": "b6717881",
   "metadata": {},
   "outputs": [],
   "source": [
    "import sys\n",
    "sys.path.append(\"../src\")\n",
    "from data_exploration import info,missing_value,visualize_data\n",
    "import pandas as pd\n",
    "df=pd.read_csv(\"../Data/Raw/raw stroke data.csv\")\n",
    "info(df)\n",
    "missing_value(df)\n",
    "visualize_data(df)"
   ]
  }
 ],
 "metadata": {
  "kernelspec": {
   "display_name": "Python 3",
   "language": "python",
   "name": "python3"
  },
  "language_info": {
   "codemirror_mode": {
    "name": "ipython",
    "version": 3
   },
   "file_extension": ".py",
   "mimetype": "text/x-python",
   "name": "python",
   "nbconvert_exporter": "python",
   "pygments_lexer": "ipython3",
   "version": "3.9.6"
  }
 },
 "nbformat": 4,
 "nbformat_minor": 5
}
