{
 "cells": [
  {
   "cell_type": "code",
   "execution_count": null,
   "id": "3a8f8c14",
   "metadata": {},
   "outputs": [],
   "source": [
    "import sys\n",
    "import os\n",
    "project_path=os.path.abspath(os.path.join(os.getcwd(),\"..\"))\n",
    "sys.path.append(os.path.join(project_path))\n",
    "raw_path=os.path.join(project_path,\"Data\",\"Raw\",\"raw stroke data.csv\")\n",
    "import pandas as pd\n",
    "import numpy as np\n",
    "df=pd.read_csv(raw_path)\n",
    "print(df.head())"
   ]
  },
  {
   "cell_type": "code",
   "execution_count": null,
   "id": "822e7c5c",
   "metadata": {},
   "outputs": [],
   "source": [
    "from src.data_cleaning import missing_value,duplicate,outliers,handle_outlier,visualize_data,save\n",
    "missing_value(df)\n",
    "duplicate(df)\n",
    "outliers(df)\n",
    "handle_outlier(df)\n",
    "visualize_data(df)\n",
    "save(df)"
   ]
  }
 ],
 "metadata": {
  "kernelspec": {
   "display_name": "Python 3",
   "language": "python",
   "name": "python3"
  },
  "language_info": {
   "codemirror_mode": {
    "name": "ipython",
    "version": 3
   },
   "file_extension": ".py",
   "mimetype": "text/x-python",
   "name": "python",
   "nbconvert_exporter": "python",
   "pygments_lexer": "ipython3",
   "version": "3.9.6"
  }
 },
 "nbformat": 4,
 "nbformat_minor": 5
}
