{
 "cells": [
  {
   "cell_type": "markdown",
   "id": "0949d682",
   "metadata": {},
   "source": [
    "CELL-1 : IMPORTING THE LIBRARIES AND ADDING THE PATHS"
   ]
  },
  {
   "cell_type": "code",
   "execution_count": null,
   "id": "4138752a",
   "metadata": {},
   "outputs": [
    {
     "name": "stdout",
     "output_type": "stream",
     "text": [
      "Raw Data Shape (549, 12)\n"
     ]
    }
   ],
   "source": [
    "import os\n",
    "import pandas as pd\n",
    "import numpy as np\n",
    "\n",
    "project_dir=os.path.abspath(os.path.join(os.getcwd(),\"..\"))\n",
    "process_dir=os.path.join(project_dir,\"Data\",\"Processed\")\n",
    "os.makedirs(process_dir,exist_ok=True)\n",
    "\n",
    "df=pd.read_csv(os.path.join(project_dir,\"Data\",\"Raw\",\"raw stroke data.csv\"))\n",
    "print(\"Raw Data Shape\",df.shape)"
   ]
  },
  {
   "cell_type": "markdown",
   "id": "42495518",
   "metadata": {},
   "source": [
    "CELL-2 : CHECKING AND FILLING THE MISSING VALUES"
   ]
  },
  {
   "cell_type": "code",
   "execution_count": 40,
   "id": "0cc458fb",
   "metadata": {},
   "outputs": [
    {
     "name": "stdout",
     "output_type": "stream",
     "text": [
      "Checking Missing Values:\n"
     ]
    },
    {
     "data": {
      "text/plain": [
       "id                    0\n",
       "gender                0\n",
       "age                   0\n",
       "hypertension          0\n",
       "heart_disease         0\n",
       "ever_married          0\n",
       "work_type             0\n",
       "Residence_type        0\n",
       "avg_glucose_level     0\n",
       "bmi                  46\n",
       "smoking_status        0\n",
       "stroke                0\n",
       "dtype: int64"
      ]
     },
     "metadata": {},
     "output_type": "display_data"
    },
    {
     "data": {
      "text/plain": [
       "id                   0\n",
       "gender               0\n",
       "age                  0\n",
       "hypertension         0\n",
       "heart_disease        0\n",
       "ever_married         0\n",
       "work_type            0\n",
       "Residence_type       0\n",
       "avg_glucose_level    0\n",
       "bmi                  0\n",
       "smoking_status       0\n",
       "stroke               0\n",
       "dtype: int64"
      ]
     },
     "metadata": {},
     "output_type": "display_data"
    }
   ],
   "source": [
    "print(\"Checking Missing Values:\")\n",
    "display(df.isnull().sum())\n",
    "df['bmi']=df['bmi'].fillna(df['bmi'].median())\n",
    "display(df.isnull().sum())"
   ]
  },
  {
   "cell_type": "markdown",
   "id": "0dbc8237",
   "metadata": {},
   "source": [
    "CELL-3 : CHECKING FOR DUPLICATES"
   ]
  },
  {
   "cell_type": "code",
   "execution_count": 41,
   "id": "7a544933",
   "metadata": {},
   "outputs": [
    {
     "name": "stdout",
     "output_type": "stream",
     "text": [
      "Count Of Duplicated Rows: 0\n"
     ]
    }
   ],
   "source": [
    "dup=df.duplicated().sum()\n",
    "print(\"Count Of Duplicated Rows:\",dup)\n",
    "if dup>0:\n",
    "    df=df.drop_duplicates()\n",
    "    print(\"Duplicates Removed -> New Shape:\",df.shape)"
   ]
  },
  {
   "cell_type": "markdown",
   "id": "ee458dcd",
   "metadata": {},
   "source": [
    "CELL-4 : CHECKING THE OUTLIERS USING IQR(INTER QUARTILE RANGE)"
   ]
  },
  {
   "cell_type": "code",
   "execution_count": 45,
   "id": "ea8f3575",
   "metadata": {},
   "outputs": [
    {
     "name": "stdout",
     "output_type": "stream",
     "text": [
      "Outliers: Empty DataFrame\n",
      "Columns: [id, gender, age, hypertension, heart_disease, ever_married, work_type, Residence_type, avg_glucose_level, bmi, smoking_status, stroke]\n",
      "Index: []\n"
     ]
    }
   ],
   "source": [
    "num_col=df[[\"age\",\"avg_glucose_level\"]]\n",
    "for col in num_col:\n",
    "    q1=df[col].quantile(0.25)\n",
    "    q3=df[col].quantile(0.75)\n",
    "    iqr=q3-q1\n",
    "    lower=q1-1.5*iqr\n",
    "    upper=q3+1.5*iqr\n",
    "    outlier=df[(df[col]<lower) | (df[col]>upper)]\n",
    "print(\"Outliers:\",outlier)"
   ]
  },
  {
   "cell_type": "markdown",
   "id": "e7036557",
   "metadata": {},
   "source": [
    "CELL-5 : REPLACING THE OUTLIERS IF REQUIRED USING CLIP"
   ]
  },
  {
   "cell_type": "code",
   "execution_count": 46,
   "id": "3466c64b",
   "metadata": {},
   "outputs": [
    {
     "name": "stdout",
     "output_type": "stream",
     "text": [
      "Outliers: Empty DataFrame\n",
      "Columns: [id, gender, age, hypertension, heart_disease, ever_married, work_type, Residence_type, avg_glucose_level, bmi, smoking_status, stroke]\n",
      "Index: []\n"
     ]
    }
   ],
   "source": [
    "num_col=df[[\"age\",\"avg_glucose_level\"]]\n",
    "for col in num_col:\n",
    "    q1=df[col].quantile(0.25)\n",
    "    q3=df[col].quantile(0.75)\n",
    "    iqr=q3-q1\n",
    "    lower=q1-1.5*iqr\n",
    "    upper=q3+1.5*iqr\n",
    "    df[col]=df[col].clip(lower=lower,upper=upper)\n",
    "    outlier=df[(df[col]<lower) | (df[col]>upper)]\n",
    "print(\"Outliers:\",outlier)"
   ]
  },
  {
   "cell_type": "markdown",
   "id": "7b83f9ec",
   "metadata": {},
   "source": [
    "CELL-6 : SAVING THE PROCESSED FILE"
   ]
  },
  {
   "cell_type": "code",
   "execution_count": 48,
   "id": "55ac9655",
   "metadata": {},
   "outputs": [
    {
     "name": "stdout",
     "output_type": "stream",
     "text": [
      "Saved The Cleaned File To The Path: c:\\Users\\TBM\\Documents\\Git Project\\Stroke_Prediction\\Data\\Processed\\Stroke Processed Data.csv\n"
     ]
    }
   ],
   "source": [
    "file_path=os.path.join(process_dir,\"Stroke Processed Data.csv\")\n",
    "df.to_csv(file_path,index=False)\n",
    "print(\"Saved The Cleaned File To The Path:\",file_path)"
   ]
  }
 ],
 "metadata": {
  "kernelspec": {
   "display_name": "Python 3",
   "language": "python",
   "name": "python3"
  },
  "language_info": {
   "codemirror_mode": {
    "name": "ipython",
    "version": 3
   },
   "file_extension": ".py",
   "mimetype": "text/x-python",
   "name": "python",
   "nbconvert_exporter": "python",
   "pygments_lexer": "ipython3",
   "version": "3.9.6"
  }
 },
 "nbformat": 4,
 "nbformat_minor": 5
}
