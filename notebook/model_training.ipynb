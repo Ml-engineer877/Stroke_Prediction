{
 "cells": [
  {
   "cell_type": "markdown",
   "id": "5f4d190a",
   "metadata": {},
   "source": [
    "CELL-1 : IMPORTING THE REQUIRED LIBRARIES AND LOAD DATA"
   ]
  },
  {
   "cell_type": "code",
   "execution_count": null,
   "id": "3c965275",
   "metadata": {},
   "outputs": [],
   "source": [
    "import os \n",
    "import pandas as pd\n",
    "import numpy as np\n",
    "\n",
    "project_path=os.path.abspath(os.path.join(os.getcwd(),\"..\"))\n",
    "process_path=os.path.join(project_path,\"Data\",\"Processed\",\"Stroke Processed Data.csv\")\n",
    "df=pd.read_csv(process_path)\n",
    "print(df.head())\n",
    "display(df.isnull().sum())"
   ]
  },
  {
   "cell_type": "markdown",
   "id": "094d9221",
   "metadata": {},
   "source": [
    "CELL-2 : SEGRIGATTING THE DATA TO INPUT(X) AND OUTPUT(Y)"
   ]
  },
  {
   "cell_type": "code",
   "execution_count": null,
   "id": "c66729dc",
   "metadata": {},
   "outputs": [],
   "source": [
    "x=df.iloc[:,1:11]\n",
    "y=df[\"stroke\"]\n",
    "print(x.shape)\n",
    "print(y.shape)"
   ]
  },
  {
   "cell_type": "markdown",
   "id": "d4b90476",
   "metadata": {},
   "source": [
    "CELL-3 : SPLITTING THE DATA FOR TRAINING AND TESTING"
   ]
  },
  {
   "cell_type": "code",
   "execution_count": null,
   "id": "3d4aa007",
   "metadata": {},
   "outputs": [],
   "source": [
    "from sklearn.model_selection import train_test_split\n",
    "x_train,x_test,y_train,y_test=train_test_split(x,y,test_size=0.25)\n",
    "print(x_train.shape)\n",
    "print(x_test.shape)"
   ]
  },
  {
   "cell_type": "markdown",
   "id": "f1a7f100",
   "metadata": {},
   "source": [
    "CELL-4 : COMPARING ALGORITHMS"
   ]
  },
  {
   "cell_type": "code",
   "execution_count": null,
   "id": "70b079a7",
   "metadata": {},
   "outputs": [],
   "source": [
    "from sklearn.linear_model import LogisticRegression\n",
    "from sklearn.naive_bayes import GaussianNB\n",
    "from sklearn.tree import DecisionTreeClassifier\n",
    "from sklearn.ensemble import RandomForestClassifier\n",
    "from sklearn.neighbors import KNeighborsClassifier\n",
    "from sklearn.svm import SVC\n",
    "\n",
    "models=[]\n",
    "models.append((\"LR\",LogisticRegression()))\n",
    "models.append((\"GNB\",GaussianNB()))\n",
    "models.append((\"DTC\",DecisionTreeClassifier()))\n",
    "models.append((\"RFC\",RandomForestClassifier()))\n",
    "models.append((\"KNN\",KNeighborsClassifier()))\n",
    "models.append((\"SVM\",SVC()))\n",
    "\n",
    "\n",
    "names=[]\n",
    "res=[]\n",
    "result=[]\n",
    "from sklearn.model_selection import cross_val_score\n",
    "from sklearn.model_selection import StratifiedKFold\n",
    "from matplotlib import pyplot as plt\n",
    "for name,model in models:\n",
    "    kfold=StratifiedKFold(n_splits=10)\n",
    "    score=cross_val_score(model,x_train,y_train,cv=kfold,scoring=\"accuracy\")\n",
    "    names.append(name)\n",
    "    res.append(score)\n",
    "    result.append(score.mean())\n",
    "    print('%s:%f'%(name,score.mean()*100))\n",
    "plt.figure(figsize=(6,4))\n",
    "plt.bar(names,result,color=\"b\",width=0.3)\n",
    "plt.show()"
   ]
  },
  {
   "cell_type": "markdown",
   "id": "972c10ea",
   "metadata": {},
   "source": [
    "CELL-5 : MODEL TRAINING"
   ]
  },
  {
   "cell_type": "code",
   "execution_count": null,
   "id": "0d601e99",
   "metadata": {},
   "outputs": [],
   "source": [
    "model=GaussianNB()\n",
    "model.fit(x_train,y_train)\n",
    "predict=model.predict(x_test)\n",
    "print(predict)"
   ]
  }
 ],
 "metadata": {
  "kernelspec": {
   "display_name": "Python 3",
   "language": "python",
   "name": "python3"
  },
  "language_info": {
   "codemirror_mode": {
    "name": "ipython",
    "version": 3
   },
   "file_extension": ".py",
   "mimetype": "text/x-python",
   "name": "python",
   "nbconvert_exporter": "python",
   "pygments_lexer": "ipython3",
   "version": "3.9.6"
  }
 },
 "nbformat": 4,
 "nbformat_minor": 5
}
